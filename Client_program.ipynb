{
 "cells": [
  {
   "cell_type": "code",
   "execution_count": 1,
   "metadata": {},
   "outputs": [
    {
     "name": "stdout",
     "output_type": "stream",
     "text": [
      "[root@station ~]#  date\n",
      "b'Sun May  3 23:53:23 IST 2020'\n",
      "[root@station ~]#  cal\n",
      "b'      May 2020      \\nSu Mo Tu We Th Fr Sa\\n                1  2\\n 3  4  5  6  7  8  9\\n10 11 12 13 14 15 16\\n17 18 19 20 21 22 23\\n24 25 26 27 28 29 30\\n31'\n",
      "[root@station ~]#  echo hrllo\n",
      "b'hrllo'\n",
      "[root@station ~]#  exit\n",
      "b''\n"
     ]
    }
   ],
   "source": [
    "import socket\n",
    "s = socket.socket()\n",
    "\n",
    "ip = \"192.168.43.146\"\n",
    "port = 2222\n",
    "\n",
    "s.connect( (ip, port))\n",
    "\n",
    "while True:\n",
    "    cmd = input(\"[root@station ~]#  \")\n",
    "    s.send(cmd.encode())\n",
    "    output = s.recv(1024)\n",
    "    print(output)\n",
    "    if cmd == \"exit\":\n",
    "        break"
   ]
  },
  {
   "cell_type": "code",
   "execution_count": null,
   "metadata": {},
   "outputs": [],
   "source": [
    "    "
   ]
  },
  {
   "cell_type": "code",
   "execution_count": null,
   "metadata": {},
   "outputs": [],
   "source": []
  }
 ],
 "metadata": {
  "kernelspec": {
   "display_name": "Python 3",
   "language": "python",
   "name": "python3"
  },
  "language_info": {
   "codemirror_mode": {
    "name": "ipython",
    "version": 3
   },
   "file_extension": ".py",
   "mimetype": "text/x-python",
   "name": "python",
   "nbconvert_exporter": "python",
   "pygments_lexer": "ipython3",
   "version": "3.7.6"
  }
 },
 "nbformat": 4,
 "nbformat_minor": 2
}
